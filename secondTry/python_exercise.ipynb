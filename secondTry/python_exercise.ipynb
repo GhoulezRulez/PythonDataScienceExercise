{
 "cells": [
  {
   "cell_type": "markdown",
   "metadata": {},
   "source": [
    "# Aufgabenstellung\n",
    "\n",
    "Das Aschaffenburger Straßenverkehrsamt führt eine Fahrradzählung durch. Hierfür wurde das Stadtgebiet in Zonen unterteilt und die dortigen Fahradfahrer erfasst. Die erste Angabe ist jeweils ein alphanumerischer Code für den Ort und die zweite Angabe ist die Anzahl der Fahrradfahrer."
   ]
  },
  {
   "cell_type": "code",
   "execution_count": 1,
   "metadata": {},
   "outputs": [],
   "source": [
    "data = [['A1', 28], ['A2', 32], ['A3', 1], ['A4', 0],\n",
    "\t['A5', 10], ['A6', 22], ['A7', 30], ['A8', 19],\n",
    "\t['B1', 145], ['B2', 27], ['B3', 36], ['B4', 25],\n",
    "\t['B5', 9], ['B6', 38], ['B7', 21], ['B8', 12],\n",
    "\t['C1', 122], ['C2', 87], ['C3', 36], ['C4', 3],\n",
    "\t['D1', 0], ['D2', 5], ['D3', 55], ['D4', 62],\n",
    "\t['D5', 98], ['D6', 32]]"
   ]
  },
  {
   "cell_type": "markdown",
   "metadata": {},
   "source": [
    "1. Wie viele Zonen gibt es?"
   ]
  },
  {
   "cell_type": "code",
   "execution_count": null,
   "metadata": {},
   "outputs": [],
   "source": []
  },
  {
   "cell_type": "markdown",
   "metadata": {},
   "source": [
    "2. Wie viele Fahrradfahrer gab es in der siebten Zone?"
   ]
  },
  {
   "cell_type": "code",
   "execution_count": null,
   "metadata": {},
   "outputs": [],
   "source": []
  },
  {
   "cell_type": "markdown",
   "metadata": {},
   "source": [
    "3. Wie viele Fahrradfahrer gab es in der letzten Zone?"
   ]
  },
  {
   "cell_type": "code",
   "execution_count": null,
   "metadata": {},
   "outputs": [],
   "source": []
  },
  {
   "cell_type": "markdown",
   "metadata": {},
   "source": [
    "4. Wie viele Fahrradfahrer wurden insgesamt im gesamten Stadtgebiet gezählt?"
   ]
  },
  {
   "cell_type": "code",
   "execution_count": null,
   "metadata": {},
   "outputs": [],
   "source": []
  },
  {
   "cell_type": "markdown",
   "metadata": {},
   "source": [
    "5. Wie viele Fahrradfahrer wurden durchschnittlich pro Zone gezählt?"
   ]
  },
  {
   "cell_type": "code",
   "execution_count": null,
   "metadata": {},
   "outputs": [],
   "source": []
  },
  {
   "cell_type": "markdown",
   "metadata": {},
   "source": [
    "6. Wie viele Fahrradfahrer wurden insgesamt in Zonen gezählt, deren Kürzel mit C beginnt? (Funktioniert Ihr Code auch, wenn es Millionen von Kürzeln gibt?)"
   ]
  },
  {
   "cell_type": "code",
   "execution_count": null,
   "metadata": {},
   "outputs": [],
   "source": []
  }
 ],
 "metadata": {
  "kernelspec": {
   "display_name": "Gdl_Data_Science",
   "language": "python",
   "name": "python3"
  },
  "language_info": {
   "codemirror_mode": {
    "name": "ipython",
    "version": 3
   },
   "file_extension": ".py",
   "mimetype": "text/x-python",
   "name": "python",
   "nbconvert_exporter": "python",
   "pygments_lexer": "ipython3",
   "version": "3.11.5"
  }
 },
 "nbformat": 4,
 "nbformat_minor": 2
}
