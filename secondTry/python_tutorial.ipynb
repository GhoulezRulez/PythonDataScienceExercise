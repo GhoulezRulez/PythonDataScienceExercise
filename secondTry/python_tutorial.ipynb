{
 "cells": [
  {
   "cell_type": "markdown",
   "metadata": {},
   "source": [
    "## Elementare Notebook-Bedienung\n",
    "\n",
    "Notebooks haben zwei Modi. Mit `Esc` wechselt man in den Command-Modus und mit `Enter` in den Editier-Modus.\n",
    "\n",
    "Shortcuts im Command-Modus:\n",
    "-  `Shift+Enter`: Zelle ausführen und zur nächsten springen, `Strg+Enter`: Zelle ausführen und bleiben \n",
    "-  Zelle nach oben/unten wechseln mit `j` und `k` (bzw. mit den Pfeiltasten)\n",
    "- `b` und `a`: eine neue Zelle unter (**b**elow) bzw. über (**a**bove) der aktuellen Zelle einfügen\n",
    "- `dd`: aktuelle Zelle entfernen\n",
    "- `m`: Zelle zu Markdownzelle ändern, `y` Zelle ausführbar machen\n",
    "- `Tab`: Autocompletion :-)"
   ]
  },
  {
   "cell_type": "markdown",
   "metadata": {},
   "source": [
    "## Markdown\n",
    "\n",
    "Eine Analysenotebook lebt davon, dass es nicht nur Codeblöcke enthält, sondern diese in einen Kontext stellt. Ohne Erläuterungen kann der Leser die Analyseschritte nur schwerlich einordnen. Letztendlich ist es wie eine Geschichtenerzählung! Markdown erlaubt eine sehr leichtgewichtige Textformatierung mit unterschiedlichen Überschriftengrößen, Stichpunkten, Hervorhebungen, Links, Bildern oder auch Formeln. Hier ein Beispiel:\n",
    "\n",
    "```\n",
    "# Markdown Hauptüberschrift\n",
    "## Mit Unterüberschrift\n",
    "### Und noch kleinere Überschrift\n",
    "#### Und sogar noch kleinerer Überschrift\n",
    "\n",
    "Normaler Text. Auch Formeln sind möglich (LaTeX-Syntax) $\\int_{x=1}^{10}x^2dx$.\n",
    "\n",
    "- ganz viele Stichpunkte\n",
    "  - auch eingerückte\n",
    "  - Unterpunkte\n",
    "- Juhuu!\n",
    "\n",
    "1. nummerierte\n",
    "2. Stichpunkte\n",
    "\n",
    "*kursiver Text*, **fett**, `monospace`, normal. (Für mehr Sytax siehe Internet)\n",
    "```\n",
    "\n",
    "# Markdown Hauptüberschrift\n",
    "## Mit Unterüberschrift\n",
    "### Und noch kleinere Überschrift\n",
    "#### Und sogar noch kleinerer Überschrift\n",
    "\n",
    "Normaler Text. Auch Formeln sind möglich (LaTeX-Syntax) $\\int_{x=1}^{10}x^2dx$.\n",
    "\n",
    "- ganz viele Stichpunkte\n",
    "  - auch eingerückte\n",
    "  - Unterpunkte\n",
    "- Juhuu!\n",
    "\n",
    "1. nummerierte\n",
    "2. Stichpunkte\n",
    "\n",
    "*kursiver Text*, **fett**, `monospace`, normal. (Für mehr Sytax siehe Internet)"
   ]
  },
  {
   "cell_type": "markdown",
   "metadata": {},
   "source": [
    "# Allgemeines Python\n",
    "\n",
    "Probieren Sie den untenstehenden Code selbst aus! Zur Übersichtlichkeit sind oft viele Anweisungen zu einer Zelle zusammengefasst. Es empfiehlt sich diese zeilenweise auszuprobieren, denn sonst wird nur das Resultat der letzten Zeile angezeigt."
   ]
  },
  {
   "cell_type": "markdown",
   "metadata": {},
   "source": [
    "#### Variablen und Zuweisungen"
   ]
  },
  {
   "cell_type": "code",
   "execution_count": 3,
   "metadata": {},
   "outputs": [
    {
     "data": {
      "text/plain": [
       "17"
      ]
     },
     "execution_count": 3,
     "metadata": {},
     "output_type": "execute_result"
    }
   ],
   "source": [
    "x = 17\n",
    "x"
   ]
  },
  {
   "cell_type": "code",
   "execution_count": 2,
   "metadata": {},
   "outputs": [
    {
     "ename": "ModuleNotFoundError",
     "evalue": "No module named 'numpy'",
     "output_type": "error",
     "traceback": [
      "\u001b[0;31m---------------------------------------------------------------------------\u001b[0m",
      "\u001b[0;31mModuleNotFoundError\u001b[0m                       Traceback (most recent call last)",
      "\u001b[1;32m/home/emreo/PythonDataScience/secondTry/python_tutorial.ipynb Cell 6\u001b[0m line \u001b[0;36m2\n\u001b[1;32m      <a href='vscode-notebook-cell:/home/emreo/PythonDataScience/secondTry/python_tutorial.ipynb#W5sZmlsZQ%3D%3D?line=0'>1</a>\u001b[0m \u001b[39m3\u001b[39m\u001b[39m+\u001b[39m\u001b[39m3\u001b[39m\n\u001b[0;32m----> <a href='vscode-notebook-cell:/home/emreo/PythonDataScience/secondTry/python_tutorial.ipynb#W5sZmlsZQ%3D%3D?line=1'>2</a>\u001b[0m \u001b[39mimport\u001b[39;00m \u001b[39mnumpy\u001b[39;00m \u001b[39mas\u001b[39;00m \u001b[39mnumpy\u001b[39;00m\n",
      "\u001b[0;31mModuleNotFoundError\u001b[0m: No module named 'numpy'"
     ]
    }
   ],
   "source": [
    "3+3\n",
    "import numpy as numpy"
   ]
  },
  {
   "cell_type": "markdown",
   "metadata": {},
   "source": [
    "#### Elementare Rechenoperationen"
   ]
  },
  {
   "cell_type": "code",
   "execution_count": 4,
   "metadata": {},
   "outputs": [
    {
     "data": {
      "text/plain": [
       "8"
      ]
     },
     "execution_count": 4,
     "metadata": {},
     "output_type": "execute_result"
    }
   ],
   "source": [
    "x+2\n",
    "x-2\n",
    "x*2\n",
    "x/2\n",
    "x**2 # Exponentiation\n",
    "x%2 # Modulo\n",
    "x//2 # Division ohne Rest (d.h. abrunden)"
   ]
  },
  {
   "cell_type": "markdown",
   "metadata": {},
   "source": [
    "#### Datentypen\n",
    "\n",
    "int (z.B. 5, 17, -42), float (z.B. 3.4, 1.0, -2.32), string (z.B. \"Hallo Welt!\"), bool (True, False)"
   ]
  },
  {
   "cell_type": "code",
   "execution_count": 5,
   "metadata": {},
   "outputs": [
    {
     "name": "stdout",
     "output_type": "stream",
     "text": [
      "x:  5 <class 'int'> \n",
      "\n",
      "y:  5.2 <class 'float'> \n",
      "\n",
      "a:  ein einfacher Text <class 'str'> \n",
      "\n",
      "b:  False <class 'bool'>\n"
     ]
    }
   ],
   "source": [
    "x = 5 # integer zwischen ca -2 Mrd. und +2 Mrd.\n",
    "print(\"x: \", x, type(x), \"\\n\")\n",
    "\n",
    "y = 5.2 # float\n",
    "print(\"y: \", y, type(y), \"\\n\")\n",
    "\n",
    "a = \"ein einfacher Text\" # mehrzeiliger Text in Dreifachanführungszeichen; auch Steuerzeichen \\n (Umbruch) oder \\t (Tabulator) möglich\n",
    "print(\"a: \", a, type(a), \"\\n\")\n",
    "\n",
    "b = False # bool\n",
    "print(\"b: \", b, type(b))"
   ]
  },
  {
   "cell_type": "markdown",
   "metadata": {},
   "source": [
    "#### Einfache Stringoperationen"
   ]
  },
  {
   "cell_type": "code",
   "execution_count": 6,
   "metadata": {},
   "outputs": [
    {
     "data": {
      "text/plain": [
       "'iin iinfachir Tixt'"
      ]
     },
     "execution_count": 6,
     "metadata": {},
     "output_type": "execute_result"
    }
   ],
   "source": [
    "a[2] # Slicing erlaubt Zugriff auf Stellen/Bereiche im String. Indizierung startet bei 0.\n",
    "a[1:7]\n",
    "a * 3\n",
    "a + \"hallo\"\n",
    "a.upper()\n",
    "a.replace(\"e\", \"i\")"
   ]
  },
  {
   "cell_type": "code",
   "execution_count": 4,
   "metadata": {},
   "outputs": [
    {
     "name": "stdout",
     "output_type": "stream",
     "text": [
      "Object `a.replace` not found.\n"
     ]
    }
   ],
   "source": [
    "# Dokumentation zu einem Befehl aufrufen\n",
    "a.replace?"
   ]
  },
  {
   "cell_type": "markdown",
   "metadata": {},
   "source": [
    "#### Vergleiche und boolesche Operationen"
   ]
  },
  {
   "cell_type": "code",
   "execution_count": 8,
   "metadata": {},
   "outputs": [
    {
     "name": "stdout",
     "output_type": "stream",
     "text": [
      "True\n"
     ]
    },
    {
     "data": {
      "text/plain": [
       "False"
      ]
     },
     "execution_count": 8,
     "metadata": {},
     "output_type": "execute_result"
    }
   ],
   "source": [
    "print(4 > 3) # ergibt bool True/False\n",
    "\n",
    "a = 13\n",
    "b = 14\n",
    "\n",
    "a == b # Vergleich mit == , aber Zuweisung mit =\n",
    "a < b \n",
    "a != b # ungleich\n",
    "\n",
    "(a > 5) and (a % 2 == 0)\n",
    "(a > 5)  or (a % 2 == 0)\n",
    "not (a < 20)"
   ]
  },
  {
   "cell_type": "code",
   "execution_count": 9,
   "metadata": {},
   "outputs": [
    {
     "data": {
      "text/plain": [
       "6"
      ]
     },
     "execution_count": 9,
     "metadata": {},
     "output_type": "execute_result"
    }
   ],
   "source": [
    "3+3"
   ]
  },
  {
   "cell_type": "markdown",
   "metadata": {},
   "source": [
    "#### Listen, Tuples und Dictionarys"
   ]
  },
  {
   "cell_type": "code",
   "execution_count": 10,
   "metadata": {},
   "outputs": [
    {
     "data": {
      "text/plain": [
       "3"
      ]
     },
     "execution_count": 10,
     "metadata": {},
     "output_type": "execute_result"
    }
   ],
   "source": [
    "a_list = [4, 2, \"hallo\", 4.3, 9] # eine Liste kann unterschiedliche Datentypen enthalten\n",
    "a_list[2] # Element an Position 2 (Achtung: Zählung beginnt bei 0!)\n",
    "a_list[:2] # alles bis Position 2 (slicing)\n",
    "a_list[2:] # alles ab Position 2\n",
    "a_list[2:4] # von Position 2 bis 4 (exklusive)\n",
    "a_list[-2] # Element an vorletzter Position\n",
    "a_list.append(42) # Element anhängen\n",
    "a_list\n",
    "\n",
    "other_list = [[1, 2, 3], [4, 5, 6]] # verschachtelte Liste\n",
    "other_list[0]\n",
    "other_list[0][2]"
   ]
  },
  {
   "cell_type": "code",
   "execution_count": 11,
   "metadata": {},
   "outputs": [],
   "source": [
    "a_tuple = (4, 6, \"hallo\") # ähnlich zu Listen, man kann die Elemente aber nicht ändern (immutable)"
   ]
  },
  {
   "cell_type": "code",
   "execution_count": 12,
   "metadata": {},
   "outputs": [
    {
     "name": "stdout",
     "output_type": "stream",
     "text": [
      "hat Pech\n"
     ]
    }
   ],
   "source": [
    "a_dictionary = {\"Hans\": \"hat Glück\", \"Marie\": \"hat Pech\", \"Carla\": 42} # Key-Value-Paare\n",
    "print(a_dictionary[\"Marie\"])"
   ]
  },
  {
   "cell_type": "markdown",
   "metadata": {},
   "source": [
    "#### Fallunterscheidung und Schleifen"
   ]
  },
  {
   "cell_type": "code",
   "execution_count": 13,
   "metadata": {},
   "outputs": [
    {
     "name": "stdout",
     "output_type": "stream",
     "text": [
      "nicht Hans\n"
     ]
    }
   ],
   "source": [
    "name = \"Anne\"\n",
    "if name == \"Hans\":\n",
    "    print(\"Hallo Hans\")\n",
    "else: # else-Statement ist optional\n",
    "    print(\"nicht Hans\")"
   ]
  },
  {
   "cell_type": "code",
   "execution_count": 14,
   "metadata": {},
   "outputs": [
    {
     "name": "stdout",
     "output_type": "stream",
     "text": [
      "0\n",
      "1\n",
      "2\n",
      "3\n",
      "4\n",
      "5\n",
      "6\n",
      "7\n",
      "8\n",
      "9\n"
     ]
    }
   ],
   "source": [
    "for i in range(10): # die Variable i durchläuft die Werte 0 bis 9\n",
    "    print(i)"
   ]
  },
  {
   "cell_type": "code",
   "execution_count": 15,
   "metadata": {},
   "outputs": [
    {
     "name": "stdout",
     "output_type": "stream",
     "text": [
      "7\n",
      "5\n",
      "3\n"
     ]
    }
   ],
   "source": [
    "x = 7\n",
    "while x > 2:\n",
    "    print(x)\n",
    "    x = x-2"
   ]
  },
  {
   "cell_type": "markdown",
   "metadata": {},
   "source": [
    "Eine Do-While-Schleife (wie z.B. in C) gibt es in Python nicht. Man kann diese aber mit einer While-Schleife und einem `break`-Statement erzeugen."
   ]
  },
  {
   "cell_type": "markdown",
   "metadata": {},
   "source": [
    "#### List Comprehension\n",
    "\n",
    "Oft möchte man eine Liste erzeugen, indem man über eine andere Liste iteriert. Zum Beispiel alle Quadratzahlen der Zahlen 0 bis 9. Klassischerweise würde der Code so aussehen:\n",
    "\n",
    "```\n",
    "quadratzahlen = []\n",
    "for x in range(10):\n",
    "    quadratzahlen.append(x**2)\n",
    "quadratzahlen\n",
    "```\n",
    "\n",
    "Durch List-Comprehensions wird dieser Code wesentlich übersichtlicher."
   ]
  },
  {
   "cell_type": "code",
   "execution_count": 16,
   "metadata": {},
   "outputs": [
    {
     "data": {
      "text/plain": [
       "[0, 'hallo1', 4, 'hallo3', 16, 'hallo5', 36, 'hallo7', 64, 'hallo9']"
      ]
     },
     "execution_count": 16,
     "metadata": {},
     "output_type": "execute_result"
    }
   ],
   "source": [
    "[i**2 for i in range(10)]\n",
    "[i**2 if i % 2 == 0 else 'hallo'+str(i) for i in range(10)]"
   ]
  },
  {
   "cell_type": "markdown",
   "metadata": {},
   "source": [
    "Etwas anspruchsvoller: Wie viele \"e\" sind in der Datei simple_csv.csv enthalten?"
   ]
  },
  {
   "cell_type": "code",
   "execution_count": 17,
   "metadata": {},
   "outputs": [
    {
     "ename": "FileNotFoundError",
     "evalue": "[Errno 2] No such file or directory: 'simple_csv.csv'",
     "output_type": "error",
     "traceback": [
      "\u001b[0;31m---------------------------------------------------------------------------\u001b[0m",
      "\u001b[0;31mFileNotFoundError\u001b[0m                         Traceback (most recent call last)",
      "\u001b[1;32m/home/emreo/PythonDataScience/secondTry/python_tutorial.ipynb Cell 28\u001b[0m line \u001b[0;36m1\n\u001b[0;32m----> <a href='vscode-notebook-cell:/home/emreo/PythonDataScience/secondTry/python_tutorial.ipynb#X35sZmlsZQ%3D%3D?line=0'>1</a>\u001b[0m \u001b[39mwith\u001b[39;00m \u001b[39mopen\u001b[39;49m(\u001b[39m\"\u001b[39;49m\u001b[39msimple_csv.csv\u001b[39;49m\u001b[39m\"\u001b[39;49m) \u001b[39mas\u001b[39;00m f:\n\u001b[1;32m      <a href='vscode-notebook-cell:/home/emreo/PythonDataScience/secondTry/python_tutorial.ipynb#X35sZmlsZQ%3D%3D?line=1'>2</a>\u001b[0m     lines \u001b[39m=\u001b[39m f\u001b[39m.\u001b[39mreadlines()\n",
      "File \u001b[0;32m~/PythonDataScience/.venv/lib/python3.10/site-packages/IPython/core/interactiveshell.py:286\u001b[0m, in \u001b[0;36m_modified_open\u001b[0;34m(file, *args, **kwargs)\u001b[0m\n\u001b[1;32m    279\u001b[0m \u001b[39mif\u001b[39;00m file \u001b[39min\u001b[39;00m {\u001b[39m0\u001b[39m, \u001b[39m1\u001b[39m, \u001b[39m2\u001b[39m}:\n\u001b[1;32m    280\u001b[0m     \u001b[39mraise\u001b[39;00m \u001b[39mValueError\u001b[39;00m(\n\u001b[1;32m    281\u001b[0m         \u001b[39mf\u001b[39m\u001b[39m\"\u001b[39m\u001b[39mIPython won\u001b[39m\u001b[39m'\u001b[39m\u001b[39mt let you open fd=\u001b[39m\u001b[39m{\u001b[39;00mfile\u001b[39m}\u001b[39;00m\u001b[39m by default \u001b[39m\u001b[39m\"\u001b[39m\n\u001b[1;32m    282\u001b[0m         \u001b[39m\"\u001b[39m\u001b[39mas it is likely to crash IPython. If you know what you are doing, \u001b[39m\u001b[39m\"\u001b[39m\n\u001b[1;32m    283\u001b[0m         \u001b[39m\"\u001b[39m\u001b[39myou can use builtins\u001b[39m\u001b[39m'\u001b[39m\u001b[39m open.\u001b[39m\u001b[39m\"\u001b[39m\n\u001b[1;32m    284\u001b[0m     )\n\u001b[0;32m--> 286\u001b[0m \u001b[39mreturn\u001b[39;00m io_open(file, \u001b[39m*\u001b[39;49margs, \u001b[39m*\u001b[39;49m\u001b[39m*\u001b[39;49mkwargs)\n",
      "\u001b[0;31mFileNotFoundError\u001b[0m: [Errno 2] No such file or directory: 'simple_csv.csv'"
     ]
    }
   ],
   "source": [
    "with open(\"simple_csv.csv\") as f:\n",
    "    lines = f.readlines()"
   ]
  },
  {
   "cell_type": "code",
   "execution_count": null,
   "metadata": {},
   "outputs": [],
   "source": [
    "sum([line.count(\"e\") for line in lines])"
   ]
  },
  {
   "cell_type": "markdown",
   "metadata": {},
   "source": [
    "#### Funktionen\n",
    "Sobald sich Code wiederholt sollte man ihn im Regelfall als Funktion kapseln."
   ]
  },
  {
   "cell_type": "code",
   "execution_count": null,
   "metadata": {},
   "outputs": [],
   "source": [
    "def my_function(x, y, z):\n",
    "    a = 2 * x + y * z\n",
    "    return a\n",
    "\n",
    "my_function(3, 2, 7) # Argumente werden gemäß Reihenfolge zugeordnet\n",
    "my_function(x = 3, z = 7, y = 2) # Argumente explizit zu benennen ist empfohlen"
   ]
  },
  {
   "cell_type": "markdown",
   "metadata": {},
   "source": [
    "#### Jupyter-Features: Hilfe und und Cell-Magics"
   ]
  },
  {
   "cell_type": "code",
   "execution_count": null,
   "metadata": {},
   "outputs": [],
   "source": [
    "# Dokumentation zu einem Befehl aufrufen\n",
    "a.replace?"
   ]
  },
  {
   "cell_type": "markdown",
   "metadata": {},
   "source": [
    "`%%timeit` ruft die Zelle mehrfach auf und bildet Statistik über Laufzeit.\n",
    "`%timeit` macht das Gleiche mit der jeweiligen Zeile (line magic).\n",
    "(`%%time` bzw `%time` macht nur einen Durchlauf.)"
   ]
  },
  {
   "cell_type": "code",
   "execution_count": null,
   "metadata": {},
   "outputs": [],
   "source": [
    "%%timeit\n",
    "sum(x**2 for x in range(100000))"
   ]
  },
  {
   "cell_type": "markdown",
   "metadata": {},
   "source": [
    "## NumPy\n",
    "Die NumPy-Bibliothek (https://numpy.org/) erlaubt schnelles und vektorbasiertes Arbeiten mit Arrays, sofern alle Einträge vom selben Datentyp sind. Viele andere Bibliotheken (pandas, scikit-learn, ...) bauen darauf auf."
   ]
  },
  {
   "cell_type": "code",
   "execution_count": null,
   "metadata": {},
   "outputs": [],
   "source": [
    "import numpy as np # Konvention. Alle NumPy-Funktionen lassen sich so mit np.<Funktionsname> ansprechen"
   ]
  },
  {
   "cell_type": "code",
   "execution_count": null,
   "metadata": {},
   "outputs": [],
   "source": [
    "a = np.array([6.5, 7.2, 2, -4]) # Array erzeugen aus expliziter Liste\n",
    "a\n",
    "type(a)\n",
    "b = np.arange(10) # die Zahlen 0 bis 9 als Array\n",
    "b\n",
    "c = np.arange(15).reshape(3, 5) # 2-dimensionals 3x5-Array\n",
    "c\n",
    "\n",
    "rng = np.random.default_rng(42)\n",
    "d = rng.uniform(low = 0.0, high = 2.0, size = 4)\n",
    "d"
   ]
  },
  {
   "cell_type": "markdown",
   "metadata": {},
   "source": [
    "Rechnen mit Arrays"
   ]
  },
  {
   "cell_type": "code",
   "execution_count": null,
   "metadata": {},
   "outputs": [],
   "source": [
    "a\n",
    "a.mean()\n",
    "a.max()\n",
    "a.sum()\n",
    "\n",
    "2*a + 100 # jeden Eintrag mal 2 plus 100\n",
    "a + d # elementweise addieren\n",
    "np.exp(a)\n",
    "a < d"
   ]
  }
 ],
 "metadata": {
  "kernelspec": {
   "display_name": "Python 3.10.6 ('WF-Datenanalyse')",
   "language": "python",
   "name": "python3"
  },
  "language_info": {
   "codemirror_mode": {
    "name": "ipython",
    "version": 3
   },
   "file_extension": ".py",
   "mimetype": "text/x-python",
   "name": "python",
   "nbconvert_exporter": "python",
   "pygments_lexer": "ipython3",
   "version": "3.10.13"
  },
  "orig_nbformat": 4,
  "vscode": {
   "interpreter": {
    "hash": "ebfa5ac945594746a4e8a2d58956177d192ddb4c5ddf1315da55c2c37f67dd4e"
   }
  }
 },
 "nbformat": 4,
 "nbformat_minor": 2
}
