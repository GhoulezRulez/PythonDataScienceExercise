{
 "cells": [
  {
   "cell_type": "markdown",
   "metadata": {},
   "source": [
    "# Visualisierung von Daten in Python\n",
    "\n",
    "In Python gibt es mittlerweile eine ganze Reihe von Bibliotheken um Daten zu visualisieren.\n",
    "Wir werden uns hier **matplotlib**, **seaborn** und die direkten Visualisierungsmethoden von **pandas** ansehen.\n",
    "Die beiden Letztgenannten basieren auf matplotlib und sind High-Level-Interfaces."
   ]
  },
  {
   "cell_type": "markdown",
   "metadata": {},
   "source": [
    "### Merkmalsarten\n",
    "\n",
    "Wir werden sehen, dass sich je nach Merkmalsart unterschiedliche Graphiktypen anbieten.\n",
    "Man unterscheidet zunächst zwischen kategorialen und numerischen Merkmalen. Diese werden wiederum in Untertypen unterteilt:\n",
    "\n",
    "- kategoriale Merkmale:\n",
    "    - nominale Merkmale: ohne intrinsischer Sortierung (Bsp: Geburtsort [Aschaffenburg, Hanau, ...], Studienfach [Software Design, Mechatronik, ...])\n",
    "    - ordinale Merkmale: mit intrinsischer Sortierung (Bsp: T-Shirt-Größen [XS < S < M < L < XL], Wochentage [Montag < Dienstag < ...])\n",
    "- metrische Merkmale:\n",
    "    - diskrete Merkmale: nur endlich (oder abzählbar unendlich) viele mögliche Ausprägungen (Bsp: Anzahl Geschwister [0, 1, 2, ...], Anzahl Vorlesungsteilnehmer)\n",
    "    - stetige Merkmale: überabzählbar unendlich viele mögliche Ausprägungen, d.h. beliebige Zwischenwerte möglich (Bsp: Körpergröße [174.583cm], Temperaturen)"
   ]
  },
  {
   "cell_type": "markdown",
   "metadata": {},
   "source": [
    "## Matplotlib\n",
    "\n",
    "Gute Quellen:\n",
    "- https://matplotlib.org/stable/users/explain/quick_start.html\n",
    "- https://matplotlib.org/cheatsheets/\n",
    "- https://matplotlib.org/stable/gallery/index.html\n",
    "- https://www.python-graph-gallery.com/"
   ]
  },
  {
   "cell_type": "code",
   "execution_count": 3,
   "metadata": {},
   "outputs": [],
   "source": [
    "import numpy as np\n",
    "import pandas as pd\n",
    "import matplotlib.pyplot as plt"
   ]
  },
  {
   "cell_type": "markdown",
   "metadata": {},
   "source": [
    "Matplotlib unterscheidet zwischen `Figure` (der gesamten Zeichenfläche) und `Axes` (ein Teil der Zeichenfläche mit Koordinatensystem).\n",
    "Eine Figure kann auch mehrere Axes enthalten.\n",
    "In den Axes trägt man die eigentlichen Daten ein.\n",
    "(Vorsicht Unterschied: Die x- bzw. y-Achse (oder z-Achse) einer Graphik heisen `Axis`.)"
   ]
  },
  {
   "cell_type": "code",
   "execution_count": 19,
   "metadata": {},
   "outputs": [
    {
     "data": {
      "image/png": "[encoded data removed]",
      "text/plain": [
       "<Figure size 640x480 with 1 Axes>"
      ]
     },
     "metadata": {},
     "output_type": "display_data"
    }
   ],
   "source": [
    "'''\n",
    "#alte Matlabplot variante\n",
    "x =  np.linspace(0, 2*np.pi,50) #damit kann man das in 50 gleiche Schritte unterteilen\n",
    "y = np.sin(x)\n",
    "\n",
    "plt.plot(x,y, color= \"green\") # das alleine zeigt den Graph aber leider mit irgendeiner überflüssiger cmd-Zeile\n",
    "plt.show() #sorgt dafür das der jetzige \"plot\" sauber angezeigt wird\n",
    "######\n",
    "'''\n",
    "x =  np.linspace(0, 2*np.pi,50) #damit kann man das in 50 gleiche Schritte unterteilen\n",
    "y = np.sin(x)\n",
    "\n",
    "fig, ax = plt.subplots()\n",
    "ax.plot(x,y, color= \"green\") # das alleine zeigt den Graph aber leider mit irgendeiner überflüssiger cmd-Zeile\n",
    "plt.show() #sorgt dafür das der jetzige \"plot\" sauber angezeigt wird"
   ]
  },
  {
   "cell_type": "markdown",
   "metadata": {},
   "source": [
    "Die Aufteilung einer Matplotlib-Graphik in Figure, Axes und die diversen Subelemente einer Axes ist am besten im Bild zu erkennen:\n",
    "\n",
    "<img src=\"https://matplotlib.org/stable/_images/anatomy.png\" alt=\"Struktur einer Matplotlib-Graphik\" width=\"400\"/>"
   ]
  },
  {
   "cell_type": "markdown",
   "metadata": {},
   "source": [
    "Der relativ übersichtliche Datensatz *tips* enthält alle oben genannten Merkmalsarten.\n",
    "Er dient uns als Beispiel in diesem Tutorial."
   ]
  },
  {
   "cell_type": "code",
   "execution_count": 14,
   "metadata": {},
   "outputs": [
    {
     "data": {
      "text/html": [
       "<div>\n",
       "<style scoped>\n",
       "    .dataframe tbody tr th:only-of-type {\n",
       "        vertical-align: middle;\n",
       "    }\n",
       "\n",
       "    .dataframe tbody tr th {\n",
       "        vertical-align: top;\n",
       "    }\n",
       "\n",
       "    .dataframe thead th {\n",
       "        text-align: right;\n",
       "    }\n",
       "</style>\n",
       "<table border=\"1\" class=\"dataframe\">\n",
       "  <thead>\n",
       "    <tr style=\"text-align: right;\">\n",
       "      <th></th>\n",
       "      <th>total_bill</th>\n",
       "      <th>tip</th>\n",
       "      <th>sex</th>\n",
       "      <th>smoker</th>\n",
       "      <th>day</th>\n",
       "      <th>time</th>\n",
       "      <th>size</th>\n",
       "    </tr>\n",
       "  </thead>\n",
       "  <tbody>\n",
       "    <tr>\n",
       "      <th>0</th>\n",
       "      <td>16.99</td>\n",
       "      <td>1.01</td>\n",
       "      <td>Female</td>\n",
       "      <td>No</td>\n",
       "      <td>Sun</td>\n",
       "      <td>Dinner</td>\n",
       "      <td>2</td>\n",
       "    </tr>\n",
       "    <tr>\n",
       "      <th>1</th>\n",
       "      <td>10.34</td>\n",
       "      <td>1.66</td>\n",
       "      <td>Male</td>\n",
       "      <td>No</td>\n",
       "      <td>Sun</td>\n",
       "      <td>Dinner</td>\n",
       "      <td>3</td>\n",
       "    </tr>\n",
       "    <tr>\n",
       "      <th>2</th>\n",
       "      <td>21.01</td>\n",
       "      <td>3.50</td>\n",
       "      <td>Male</td>\n",
       "      <td>No</td>\n",
       "      <td>Sun</td>\n",
       "      <td>Dinner</td>\n",
       "      <td>3</td>\n",
       "    </tr>\n",
       "    <tr>\n",
       "      <th>3</th>\n",
       "      <td>23.68</td>\n",
       "      <td>3.31</td>\n",
       "      <td>Male</td>\n",
       "      <td>No</td>\n",
       "      <td>Sun</td>\n",
       "      <td>Dinner</td>\n",
       "      <td>2</td>\n",
       "    </tr>\n",
       "    <tr>\n",
       "      <th>4</th>\n",
       "      <td>24.59</td>\n",
       "      <td>3.61</td>\n",
       "      <td>Female</td>\n",
       "      <td>No</td>\n",
       "      <td>Sun</td>\n",
       "      <td>Dinner</td>\n",
       "      <td>4</td>\n",
       "    </tr>\n",
       "    <tr>\n",
       "      <th>...</th>\n",
       "      <td>...</td>\n",
       "      <td>...</td>\n",
       "      <td>...</td>\n",
       "      <td>...</td>\n",
       "      <td>...</td>\n",
       "      <td>...</td>\n",
       "      <td>...</td>\n",
       "    </tr>\n",
       "    <tr>\n",
       "      <th>239</th>\n",
       "      <td>29.03</td>\n",
       "      <td>5.92</td>\n",
       "      <td>Male</td>\n",
       "      <td>No</td>\n",
       "      <td>Sat</td>\n",
       "      <td>Dinner</td>\n",
       "      <td>3</td>\n",
       "    </tr>\n",
       "    <tr>\n",
       "      <th>240</th>\n",
       "      <td>27.18</td>\n",
       "      <td>2.00</td>\n",
       "      <td>Female</td>\n",
       "      <td>Yes</td>\n",
       "      <td>Sat</td>\n",
       "      <td>Dinner</td>\n",
       "      <td>2</td>\n",
       "    </tr>\n",
       "    <tr>\n",
       "      <th>241</th>\n",
       "      <td>22.67</td>\n",
       "      <td>2.00</td>\n",
       "      <td>Male</td>\n",
       "      <td>Yes</td>\n",
       "      <td>Sat</td>\n",
       "      <td>Dinner</td>\n",
       "      <td>2</td>\n",
       "    </tr>\n",
       "    <tr>\n",
       "      <th>242</th>\n",
       "      <td>17.82</td>\n",
       "      <td>1.75</td>\n",
       "      <td>Male</td>\n",
       "      <td>No</td>\n",
       "      <td>Sat</td>\n",
       "      <td>Dinner</td>\n",
       "      <td>2</td>\n",
       "    </tr>\n",
       "    <tr>\n",
       "      <th>243</th>\n",
       "      <td>18.78</td>\n",
       "      <td>3.00</td>\n",
       "      <td>Female</td>\n",
       "      <td>No</td>\n",
       "      <td>Thur</td>\n",
       "      <td>Dinner</td>\n",
       "      <td>2</td>\n",
       "    </tr>\n",
       "  </tbody>\n",
       "</table>\n",
       "<p>244 rows × 7 columns</p>\n",
       "</div>"
      ],
      "text/plain": [
       "     total_bill   tip     sex smoker   day    time  size\n",
       "0         16.99  1.01  Female     No   Sun  Dinner     2\n",
       "1         10.34  1.66    Male     No   Sun  Dinner     3\n",
       "2         21.01  3.50    Male     No   Sun  Dinner     3\n",
       "3         23.68  3.31    Male     No   Sun  Dinner     2\n",
       "4         24.59  3.61  Female     No   Sun  Dinner     4\n",
       "..          ...   ...     ...    ...   ...     ...   ...\n",
       "239       29.03  5.92    Male     No   Sat  Dinner     3\n",
       "240       27.18  2.00  Female    Yes   Sat  Dinner     2\n",
       "241       22.67  2.00    Male    Yes   Sat  Dinner     2\n",
       "242       17.82  1.75    Male     No   Sat  Dinner     2\n",
       "243       18.78  3.00  Female     No  Thur  Dinner     2\n",
       "\n",
       "[244 rows x 7 columns]"
      ]
     },
     "execution_count": 14,
     "metadata": {},
     "output_type": "execute_result"
    }
   ],
   "source": [
    "tips =pd.read_csv(\"tips.csv\")\n"
   ]
  },
  {
   "cell_type": "markdown",
   "metadata": {},
   "source": [
    "Eine erste typische Matplotlib-Graphik:"
   ]
  },
  {
   "cell_type": "code",
   "execution_count": 29,
   "metadata": {},
   "outputs": [
    {
     "data": {
      "image/png": "[encoded data removed]",
      "text/plain": [
       "<Figure size 600x300 with 1 Axes>"
      ]
     },
     "metadata": {},
     "output_type": "display_data"
    }
   ],
   "source": [
    "fig, ax = plt.subplots(figsize= (6,3), layout = \"constrained\") ## Sorgt für Seitenanpassung bei der Bild ausgabe\n",
    "\n",
    "ax.scatter(x = tips[\"total_bill\"], y = tips [\"tip\"], alpha= 0.4)\n",
    "ax.axhline(y = tips[\"tip\"].mean(), color = \"r\", linestyle = \"--\") # durchschnittliches Trinkgeld\n",
    "ax.set_xlabel(\"Rechnungsbetrag\")\n",
    "ax.set_ylabel(\"Trinkgeld\")\n",
    "ax.set_title(\"Trinkgelder\")\n",
    "\n",
    "plt.show()"
   ]
  },
  {
   "cell_type": "markdown",
   "metadata": {},
   "source": [
    "Die Plots lassen sich **nahezu beliebig** modifizieren. \n",
    "So lassen sich Farben, Größen, Marierungsstil, Linienbreiten, Linienstil und vieles mehr auf diverse Arten anpassen."
   ]
  },
  {
   "cell_type": "code",
   "execution_count": 30,
   "metadata": {},
   "outputs": [],
   "source": [
    "fig.savefig(\"tips_figure2.png\")"
   ]
  },
  {
   "cell_type": "markdown",
   "metadata": {},
   "source": [
    "Es gibt grundsätzlich zwei mögliche Wege Matplotlib zu bedienen:\n",
    " - objektorientierte API\n",
    " - prozedurale pyplot-API (Hiervon wird üblicherweise abgeraten.)\n",
    "\n",
    "In den obigen Beispielen haben wir die objektorientierte API verwendet.\n",
    "\n",
    "Das prozedurale Pyplot-Interface ist historisch an die Plotfunktionen von MATLAB angelehnt. Darin werden Figure und Axes implizit gehandhabt und immer nur deren Status aktualisiert. **Allgemein wird eher das objektorientierte Inferface empfohlen.**"
   ]
  },
  {
   "cell_type": "markdown",
   "metadata": {},
   "source": [
    "### Histogramme\n",
    "\n",
    "Zunächst wollen wir die Verteilung der Rechnungsbeträge betrachten.\n",
    "Zur Visualisierung eindimensionaler numerischer Daten eignen sich Histogramme.\n",
    "Daran kann man auf einen Blick die Extremwerte und Häufungsbereiche erkennen."
   ]
  },
  {
   "cell_type": "code",
   "execution_count": null,
   "metadata": {},
   "outputs": [],
   "source": []
  },
  {
   "cell_type": "markdown",
   "metadata": {},
   "source": [
    "### Barplots (Säulen- bzw. Balkendiagramme)\n",
    "\n",
    "Wir möchten auszählen, wie oft die einzelnen Wochentage im Datensatz vorkommen.\n",
    "Für eindimensionale kategoriale Merkmale eignen sich oft Barplots.\n",
    "Im Falle von ordinalen Merkmalen sollte man ggf. die intrinsische Reihenfolge der Ausprägungen beachten."
   ]
  },
  {
   "cell_type": "code",
   "execution_count": null,
   "metadata": {},
   "outputs": [],
   "source": []
  },
  {
   "cell_type": "code",
   "execution_count": null,
   "metadata": {},
   "outputs": [],
   "source": []
  },
  {
   "cell_type": "markdown",
   "metadata": {},
   "source": [
    "Nun möchten wir innerhalb der Wochentage zusätzlich noch nach Geschlecht aufteilen und die durchschnittlichen Trinkgelder darstellen.\n",
    "Wir müssen also zwei kategoriale Merkmale gleichzeitig betrachten.\n",
    "Hierfür eignen sich - je nach Fokus - gestapelte oder gruppierte Barcharts."
   ]
  },
  {
   "cell_type": "code",
   "execution_count": null,
   "metadata": {},
   "outputs": [],
   "source": []
  },
  {
   "cell_type": "code",
   "execution_count": null,
   "metadata": {},
   "outputs": [],
   "source": []
  },
  {
   "cell_type": "markdown",
   "metadata": {},
   "source": [
    "### Scatterplots (Streudiagramme)\n",
    "\n",
    "Zweidimensionale metrische Merkmale lassen sich gut in einem Streudiagramm darstellen.\n",
    "Variiert man auch die Farbe, Größe oder das Markierungssymbol, so kann man auch weitere Aspekte (Dimensionen) leicht visualisieren.\n",
    "\n",
    "Hier wollen wir für jeweils das Trinkgeld gegen den Rechnungsbetrag auftragen und farblich nach Mittagessen bzw. Abendessen unterscheiden.\n",
    "Da in dichten Bereichen viel Information durch Überplotten verloren geht, kann man beispielsweise die Farbsättigung reduzieren."
   ]
  },
  {
   "cell_type": "code",
   "execution_count": null,
   "metadata": {},
   "outputs": [],
   "source": []
  },
  {
   "cell_type": "markdown",
   "metadata": {},
   "source": [
    "Mit Barplots, Histogrammen und Scatterplots kommt man in der Praxis schon erstaunlich weit.\n",
    "Die Vielfalt an möglichen Visualisierungen ist jedoch riesig und es ist ratsam diese etwas zu erkunden.\n",
    "Inspirationen und Code-Beispiele findet man beispielsweise unter https://matplotlib.org/stable/gallery/index.html oder https://www.python-graph-gallery.com."
   ]
  },
  {
   "cell_type": "markdown",
   "metadata": {},
   "source": [
    "## Seaborn\n",
    "\n",
    "- Tutorial: https://seaborn.pydata.org/tutorial.html\n",
    "- Beispiele: https://seaborn.pydata.org/examples/index.html\n",
    "\n",
    "Seaborn ist ein Visualisierungsbibliothek, die auf Matplotlib aufsetzt und gut mit Pandas zusammenspielt.\n",
    "Während man mit Matplotlib beliebig komplizierte Graphiken zusammenbauen kann, hat Seaborn das Ziel ein High-Level-Interface zur Verfügung zu stellen um auf möglichst einfache Art die statistischen Zusammenhänge verschiedener Merkmale darzustellen."
   ]
  },
  {
   "cell_type": "code",
   "execution_count": null,
   "metadata": {},
   "outputs": [],
   "source": []
  },
  {
   "cell_type": "markdown",
   "metadata": {},
   "source": [
    "Seaborn kennt drei übergeordnete Hauptfunktionen um jeweils eine Reihe von Graphiken zu ermöglichen:\n",
    "- `relplot()` (relational): scatterplot, lineplot\n",
    "- `displot()` (distributions): histplot, kdeplot, ecdfplot, rugplot\n",
    "- `catplot()` (categorical): stripplot, swarmplot, boxplot, violinplot, pointplot, barplot\n",
    "\n",
    "Die erstgenannten Hauptfunktionen sind Figure-Level-Funktionen. Sie rufen intern eine der jeweils nachgenannten Axes-Level-Funktionen auf, was man über das Argument *kind* steuern kann. (Beispiel: `relplot` nutzt standardmäßig scatterplot, d.h. `kind=\"scatter\"`, und mittels `kind=\"line\"` könnte man einen Linienplot erzeugen). Man kann aber auch direkt mit den Axes-Level-Funktionen (z.B. `sns.lineplot()`) arbeiten.\n",
    "\n",
    "Zusätzlich zu diesen Hauptfunktionen gibt es auch noch `jointplot()` und `pairplot()`, welche anders funktionieren."
   ]
  },
  {
   "cell_type": "code",
   "execution_count": null,
   "metadata": {},
   "outputs": [],
   "source": []
  },
  {
   "cell_type": "code",
   "execution_count": null,
   "metadata": {},
   "outputs": [],
   "source": []
  },
  {
   "cell_type": "code",
   "execution_count": null,
   "metadata": {},
   "outputs": [],
   "source": []
  },
  {
   "cell_type": "code",
   "execution_count": null,
   "metadata": {},
   "outputs": [],
   "source": []
  },
  {
   "cell_type": "code",
   "execution_count": null,
   "metadata": {},
   "outputs": [],
   "source": []
  },
  {
   "cell_type": "markdown",
   "metadata": {},
   "source": [
    "Es lassen sich aber auch alle Aspekte einer Graphik beliebig anpassen.\n",
    "Zu beachten ist dabei, dass Figure-Level-Funktionen (d.h. `relplot`, `displot` und `catplot`) ihre Figure selbst verwalten.\n",
    "Grundsätzlich geben diese Funktionen ein `FacetGrid` zurück, welches etliche Methoden bietet um Aspekte anzupassen.\n",
    "Hierin ist jedoch auch der direkte Zugriff auf die klassichen Matplotlib-Objekte, d.h. Figure und Axes, möglich.\n"
   ]
  },
  {
   "cell_type": "code",
   "execution_count": null,
   "metadata": {},
   "outputs": [],
   "source": []
  },
  {
   "cell_type": "markdown",
   "metadata": {},
   "source": [
    "Anstatt mit den Figure-Level-Funktionen kann man auch direkt mit den spezifischeren Axes-Level-Funktionen arbeiten. \n",
    "Besonders wenn man mehrere Axes kombiniert, kann dies nützlich sein."
   ]
  },
  {
   "cell_type": "code",
   "execution_count": null,
   "metadata": {},
   "outputs": [],
   "source": []
  },
  {
   "cell_type": "markdown",
   "metadata": {},
   "source": [
    "## Pandas\n",
    "\n",
    "Auch die Bibliothek Pandas bringt einige elementare Visualisierungsfunktionen mit, die intern auf Matplotlib aufsetzen.\n",
    "Die resultierenden Graphiken mögen nicht direkt Publikationsqualität haben, aber es ist ungemein handlich, während des Data Wranglings spontan etwas plotten zu können.\n",
    "Sowohl für DataFrames als auch für Series findet man unter `.plot.*` eine Reihe praktischer Plot-Funktionen.\n",
    "\n",
    "Details unter https://pandas.pydata.org/docs/user_guide/visualization.html"
   ]
  },
  {
   "cell_type": "code",
   "execution_count": null,
   "metadata": {},
   "outputs": [],
   "source": []
  },
  {
   "cell_type": "code",
   "execution_count": null,
   "metadata": {},
   "outputs": [],
   "source": []
  },
  {
   "cell_type": "code",
   "execution_count": null,
   "metadata": {},
   "outputs": [],
   "source": []
  },
  {
   "cell_type": "code",
   "execution_count": null,
   "metadata": {},
   "outputs": [],
   "source": []
  },
  {
   "cell_type": "code",
   "execution_count": null,
   "metadata": {},
   "outputs": [],
   "source": []
  }
 ],
 "metadata": {
  "kernelspec": {
   "display_name": "Python 3.9.13 ('Gdl_Data_Science')",
   "language": "python",
   "name": "python3"
  },
  "language_info": {
   "codemirror_mode": {
    "name": "ipython",
    "version": 3
   },
   "file_extension": ".py",
   "mimetype": "text/x-python",
   "name": "python",
   "nbconvert_exporter": "python",
   "pygments_lexer": "ipython3",
   "version": "3.11.5"
  },
  "orig_nbformat": 4,
  "vscode": {
   "interpreter": {
    "hash": "3d5d6a86e3d4974d189580060ff3bb19a628ecd522cfd26fc05ab9aa0187c31a"
   }
  }
 },
 "nbformat": 4,
 "nbformat_minor": 2
}
