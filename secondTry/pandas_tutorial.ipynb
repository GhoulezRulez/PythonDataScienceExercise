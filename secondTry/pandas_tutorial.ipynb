{
 "cells": [
  {
   "cell_type": "markdown",
   "metadata": {},
   "source": [
    "# Pandas\n",
    "\n",
    "Mit Pandas (= panel data) lassen sich tabellarische Daten sehr komfortabel handhaben. Mehr unter https://pandas.pydata.org/.\n",
    "\n",
    "Sehr hilfrich:\n",
    "- https://pandas.pydata.org/docs/getting_started/intro_tutorials/index.html\n",
    "- https://pandas.pydata.org/Pandas_Cheat_Sheet.pdf\n",
    "\n",
    "Pandas nutzt zwei wichtige Datenstrukturen:\n",
    "- `Series` sind 1-dimensionale Arrays. Im Gegensatz zu Numpy-Arrays haben sie aber einen zusätzlichen Index, über den man komfortabel auf Einträge zugreifen kann. Intern baut dies auf Numpy-Arrays auf.\n",
    "- `DataFrame` ist eine ganze Tabelle bestehend aus mehreren Series (=Spalten) gleicher Länge."
   ]
  },
  {
   "cell_type": "code",
   "execution_count": null,
   "metadata": {},
   "outputs": [],
   "source": [
    "import numpy as np\n",
    "import pandas as pd # empfehlenswerte Konvention"
   ]
  },
  {
   "cell_type": "markdown",
   "metadata": {},
   "source": [
    "#### DataFrames"
   ]
  },
  {
   "cell_type": "code",
   "execution_count": null,
   "metadata": {},
   "outputs": [],
   "source": [
    "starwars_simple = pd.DataFrame({\n",
    "    \"name\"   : [\"Luke\", \"Chewbacca\", \"Darth Vader\"],\n",
    "    \"jedi\"   : [True, False, True],\n",
    "    \"height\" : [172, 228, 202]})\n",
    "starwars_simple"
   ]
  },
  {
   "cell_type": "markdown",
   "metadata": {},
   "source": [
    "Jede Spalte ist eine Series."
   ]
  },
  {
   "cell_type": "code",
   "execution_count": null,
   "metadata": {},
   "outputs": [],
   "source": [
    "starwars_simple[\"height\"]\n",
    "type(starwars_simple[\"height\"])"
   ]
  },
  {
   "cell_type": "markdown",
   "metadata": {},
   "source": [
    "Die vorderste Spalte eines DataFrame (oder Series) ist der sogenannte Index. Er enthält die *Zeilennamen*. Standardmäßig sind dies die Zahlen 0, 1, 2, ...\n",
    "Man kann jedoch auch einen anderen Index setzen."
   ]
  },
  {
   "cell_type": "code",
   "execution_count": null,
   "metadata": {},
   "outputs": [],
   "source": [
    "starwars_simple.index\n",
    "starwars_simple = starwars_simple.set_index(\"name\")\n",
    "starwars_simple"
   ]
  },
  {
   "cell_type": "markdown",
   "metadata": {},
   "source": [
    "Man kann eine Series auch explizit erzeugen. Falls man keinen Index angibt, sind es wieder die Zahlen 0, 1, 2, ..."
   ]
  },
  {
   "cell_type": "code",
   "execution_count": null,
   "metadata": {},
   "outputs": [],
   "source": [
    "dummy = pd.Series(np.random.standard_normal(4), index= [\"a\", \"c\", \"d\", \"b\"]) # spezieller Index\n",
    "dummy"
   ]
  },
  {
   "cell_type": "markdown",
   "metadata": {},
   "source": [
    "#### Daten einlesen und schreiben\n",
    "\n",
    "Pandas bietet eine Vielzahl an Möglichkeiten um Daten aus Datenbanken (via SQL) oder aus Dateien einzulesen, z.B. csv, xlsx, parquet, feather, ..."
   ]
  },
  {
   "cell_type": "code",
   "execution_count": null,
   "metadata": {},
   "outputs": [],
   "source": [
    "starwars = pd.read_csv(\"starwars.csv\") # siehe Dokumentation, ebenso zB pd.read_excel(), pd.read_sql()\n",
    "starwars"
   ]
  },
  {
   "cell_type": "markdown",
   "metadata": {},
   "source": [
    "Ersten Einblick in die Daten gewinnen."
   ]
  },
  {
   "cell_type": "code",
   "execution_count": null,
   "metadata": {},
   "outputs": [],
   "source": [
    "#starwars.head()\n",
    "starwars.info()\n",
    "#starwars.describe()\n",
    "#starwars.shape"
   ]
  },
  {
   "cell_type": "markdown",
   "metadata": {},
   "source": [
    "Auch das Lesen und Schreiben von xlsx-Dateien ist kein Problem. Hier exemplarisch den Datensatz als xlsx abspreichern. Hierfür muss das Paket *openpyxl* installiert sein."
   ]
  },
  {
   "cell_type": "code",
   "execution_count": null,
   "metadata": {},
   "outputs": [],
   "source": [
    "starwars.to_excel(\"starwars.xlsx\", sheet_name=\"some characters\", index=False)"
   ]
  },
  {
   "cell_type": "markdown",
   "metadata": {},
   "source": [
    "#### Auswahl von Spalten oder Zeilen\n",
    "\n",
    "Wählt man nicht nur einen Spaltennamen sondern eine Liste von mehreren Spalten, so erhält man einen DataFrame."
   ]
  },
  {
   "cell_type": "code",
   "execution_count": null,
   "metadata": {},
   "outputs": [],
   "source": [
    "starwars[[\"name\", \"height\"]] "
   ]
  },
  {
   "cell_type": "markdown",
   "metadata": {},
   "source": [
    "Bei der Zeilenauswahl möchte man meistens Zeilen selektieren, die bestimmte Eigenschaften erfüllen.\n",
    "Hierfür schreibt man in die eckigen Klammern `[]` einen True/False-Vektor von der Länge des DataFrames.\n",
    "Oft sind Vergleichsoperatoren (`<`, `>`, `==`, `<=`, `>=`, `!=`) und Boole'sche Operatoren `&` (and), `|` (or) und `~` (not) sehr hilfreich."
   ]
  },
  {
   "cell_type": "code",
   "execution_count": null,
   "metadata": {},
   "outputs": [],
   "source": [
    "starwars[starwars[\"height\"] < 180]\n",
    "starwars[\"height\"] < 180 # dies ergibt einen True/False-Vektor von der Länge des DataFrames\n",
    "\n",
    "starwars[(starwars[\"height\"] < 180) & (starwars[\"sex\"] == \"male\")] # Boole'sche Operatoren \n",
    "\n",
    "starwars[starwars[\"eye_color\"].isin([\"red\", \"blue\"])] # übersichtlicher als (starwars[\"eye_color\"] == \"red\") | (starwars[\"eye_color\"] == \"blue\")\n",
    "\n",
    "starwars[starwars[\"homeworld\"].isna()] # Auswahl von Missing Values mittels .isna() oder .notna()"
   ]
  },
  {
   "cell_type": "markdown",
   "metadata": {},
   "source": [
    "Möchte man *in einem Schritt* gewisse Zeilen und Spalten auswählen, eignen sich `.loc` und `.iloc`."
   ]
  },
  {
   "cell_type": "code",
   "execution_count": null,
   "metadata": {},
   "outputs": [],
   "source": [
    "starwars.loc[starwars[\"height\"] < 180, \"name\"]"
   ]
  },
  {
   "cell_type": "markdown",
   "metadata": {},
   "source": [
    "\n",
    "Mittels `.loc[rows, columns]` (= location) kann man Einträge über ihren **Zeilenindex** ansprechen."
   ]
  },
  {
   "cell_type": "code",
   "execution_count": null,
   "metadata": {},
   "outputs": [],
   "source": [
    "starwars = starwars.set_index(\"name\") # sogar mehrere Spalten als Index möglich (sog. MultiIndex)\n",
    "starwars"
   ]
  },
  {
   "cell_type": "code",
   "execution_count": null,
   "metadata": {},
   "outputs": [],
   "source": [
    "starwars.loc[\"R2-D2\"] # Zeilenauswahl per Zeilenindex\n",
    "starwars.loc[:, \"height\"] # alle Zeilen der Spalte\n",
    "starwars.loc[\"R2-D2\":\"Chewbacca\", [\"mass\", \"homeworld\"]] # Achtung: Slicing inklusive Ende!"
   ]
  },
  {
   "cell_type": "markdown",
   "metadata": {},
   "source": [
    "Mittels `.iloc[row, column]` (= integer location) kann man Einträge über ihre Zeilen-/Spalten**nummer**, d.h. über die Position und nicht über den Namen, auswählen. (Hier funktioniert das Slicing wie gewohnt.)"
   ]
  },
  {
   "cell_type": "code",
   "execution_count": null,
   "metadata": {},
   "outputs": [],
   "source": [
    "starwars.iloc[0:4, [2, 4]] # Auswahl per integer location\n",
    "starwars"
   ]
  },
  {
   "cell_type": "markdown",
   "metadata": {},
   "source": [
    "Mit `.reset_index` lässt sich der Index zu einer normalen Spalte machen. "
   ]
  },
  {
   "cell_type": "code",
   "execution_count": null,
   "metadata": {},
   "outputs": [],
   "source": [
    "starwars = starwars.reset_index()\n",
    "starwars"
   ]
  },
  {
   "cell_type": "markdown",
   "metadata": {},
   "source": [
    "#### Spalten erzeugen, entfernen und umbenennen\n",
    "\n",
    "Beim berechnen neuer Spalten wird die Mächtigkeit der Vektorisierung deutlich.\n",
    "Die Berechnungen finden elementweise für jeden Eintrag des Vektors statt.\n",
    "Eine explizite Schleife ist nicht nötig."
   ]
  },
  {
   "cell_type": "code",
   "execution_count": null,
   "metadata": {},
   "outputs": [],
   "source": [
    "starwars[\"BMI\"]  = starwars[\"mass\"] / (starwars[\"height\"] / 100)**2\n",
    "starwars[\"col1\"] = 7 # jeden Eintrag auf diesen skalaren Wert setzen\n",
    "starwars[\"col2\"] = np.arange(starwars.shape[0]) # die Zahlen 0, 1, 2, ...\n",
    "\n",
    "\n",
    "starwars = starwars.drop(columns=[\"col1\", \"col2\"])\n",
    "starwars"
   ]
  },
  {
   "cell_type": "markdown",
   "metadata": {},
   "source": [
    "Möchte man komplizierte Berechnungen durchführen, kann man eine Funktion schreiben und diese mittels `map()` oder `apply()` zeilenweise \n",
    "anwenden. Mehr dazu später! "
   ]
  },
  {
   "cell_type": "markdown",
   "metadata": {},
   "source": [
    "Zur Umbenennung von Spalten übergibt man der Funktion `.rename` ein Dictionary mit Einträgen der Form `{\"old_colname\": \"new_colname\"}` oder eine geeignete String-Funktion."
   ]
  },
  {
   "cell_type": "code",
   "execution_count": null,
   "metadata": {},
   "outputs": [],
   "source": [
    "starwars_renamed = starwars.rename(columns= {\"eye_color\": \"Augenfarbe\", \"sex\": \"Geschlecht\"})\n",
    "starwars_renamed\n",
    "starwars.rename(columns= str.upper).head(2)"
   ]
  },
  {
   "cell_type": "markdown",
   "metadata": {},
   "source": [
    "#### Visualisierung\n",
    "\n",
    "(Hier nur ganz kurz. Visualisierung bekommt noch eine Extrasession.)"
   ]
  },
  {
   "cell_type": "code",
   "execution_count": null,
   "metadata": {},
   "outputs": [],
   "source": [
    "import matplotlib.pyplot as plt"
   ]
  },
  {
   "cell_type": "code",
   "execution_count": null,
   "metadata": {},
   "outputs": [],
   "source": [
    "ax = starwars.plot.scatter(x = \"height\", y= \"mass\", c = \"BMI\", colormap='viridis', title = \"Star Wars\")\n",
    "\n",
    "#starwars.apply(add_name,axis=1)\n",
    "for idx, row in starwars.iterrows():\n",
    "    ax.annotate(row[\"name\"], (row[\"height\"], row[\"mass\"]))\n",
    "\n",
    "plt.show()"
   ]
  },
  {
   "cell_type": "markdown",
   "metadata": {},
   "source": [
    "#### Sortieren"
   ]
  },
  {
   "cell_type": "code",
   "execution_count": null,
   "metadata": {},
   "outputs": [],
   "source": [
    "starwars.sort_values(by = \"height\")\n",
    "starwars.sort_values(by = \"height\", ascending= False)\n",
    "starwars.sort_values(by = [\"jedi\", \"height\"], ascending= [True, False])\n"
   ]
  },
  {
   "cell_type": "markdown",
   "metadata": {},
   "source": [
    "Die Sortierung hat natürlich Konsequenzen für den Index. \n",
    "Möchte man diesen wieder korrigieren, so kann man entweder den Index reseten oder ihn direkt bei der Sortierung ignorieren lassen. "
   ]
  },
  {
   "cell_type": "code",
   "execution_count": null,
   "metadata": {},
   "outputs": [],
   "source": [
    "starwars.sort_values(\"height\").reset_index(drop = True) # früher war dies gängig\n",
    "starwars.sort_values(\"height\", ignore_index= True)"
   ]
  },
  {
   "cell_type": "markdown",
   "metadata": {},
   "source": [
    "#### Aggregation von Daten\n",
    "\n",
    "Typische Aggregationsfunktionen wie z.B. mean(), sum(), max(), quantile() ... können direkt als Methode von `Series` aufgerufen werden."
   ]
  },
  {
   "cell_type": "code",
   "execution_count": null,
   "metadata": {},
   "outputs": [],
   "source": [
    "starwars[\"mass\"].mean()\n",
    "starwars[[\"height\", \"mass\"]].max()"
   ]
  },
  {
   "cell_type": "markdown",
   "metadata": {},
   "source": [
    "Sehr oft möchte man derartige Aggregationen gruppenweise, d.h. für jede Ausprägung eines Merkmals, durchführen. Dies ist bekannt als **Split-Apply-Combine**: Die Gesamttabelle wird gemäß der Ausprägungen eines Merkmals in Einzeltabellen geteilt, für jede solche Tabelle berechnet man die Aggregationsfunktion und anschließend werden diese Werte in einer kleineren Tabelle gesammelt."
   ]
  },
  {
   "cell_type": "code",
   "execution_count": null,
   "metadata": {},
   "outputs": [],
   "source": [
    "starwars[[\"jedi\", \"mass\"]].groupby(\"jedi\").mean() # eine spezielle Spalte\n",
    "starwars.groupby(\"jedi\")[\"mass\"].mean() # gleichwertig zu erster Zeile\n",
    "#starwars.groupby(\"jedi\").mean(numeric_only = True) # für alle! numerischen Spalten"
   ]
  },
  {
   "cell_type": "markdown",
   "metadata": {},
   "source": [
    "Soeben haben wir direkt nach `.groupby()` eine eckige Klammer mit Spaltennamen genutzt. Dies wird oft gemacht und schränkt die Einzeltabellen auf die genannten Spalten ein. Die Aggregationsfunktion wirkt dann nur noch auf diese Spalten.\n",
    "\n",
    "Man kann auch nach mehreren Merkmalen gruppieren. Das resultierende Objekt hat dann einen MultiIndex."
   ]
  },
  {
   "cell_type": "code",
   "execution_count": null,
   "metadata": {},
   "outputs": [],
   "source": [
    "starwars.groupby([\"jedi\", \"sex\"])[\"mass\"].mean()\n",
    "starwars.groupby([\"jedi\", \"sex\"]).mean(numeric_only = True)"
   ]
  },
  {
   "cell_type": "markdown",
   "metadata": {},
   "source": [
    "Sehr oft möchte man für jede Ausprägung eines Merkmals auszählen wie oft es vorkommt. Dies liefert die Grundlage für Balkendiagramme.\n",
    "(Achtung: Standardmäßig bilden NA-Werte keine eigene Gruppe und werden nicht aufgeführt. Dies ist im Rahmen der Datenaufbereitung allerdings oft relevant. Hierfür kann man in `.groupby()` oder in `.value_counts()` die Option `dropna=False` setzen.)\n",
    "Da das resultierende Objekt kein DataFrame ist, eignet sich ein `.reset_index()` um den Index zu einer expliziten Spalte zu machen und z.B. Sortierschritte anzuschließen."
   ]
  },
  {
   "cell_type": "code",
   "execution_count": null,
   "metadata": {},
   "outputs": [],
   "source": [
    "starwars.groupby(\"sex\").size().reset_index()\n",
    "#starwars[\"sex\"].value_counts()"
   ]
  },
  {
   "cell_type": "markdown",
   "metadata": {},
   "source": [
    "Es gibt sowohl `.count()` als auch `.size()`. Diese sind sehr ähnlich. Während `.size()` die Zeilenanzahl zurückgibt, liefert `.count()` die Anzahl an Nicht-NA-Werten. Die eine Funktion zählt also NA-Werte mit, die andere hingegen nicht."
   ]
  },
  {
   "cell_type": "markdown",
   "metadata": {},
   "source": [
    "#### Datenschubsen für Fortgeschrittene: Long-Format und Wide-Format\n",
    "\n",
    "<!--- Datenquelle:\n",
    "- Destatis, Tabelle 12411-0015: Bevölkerung: Kreise, Stichtag (Auswahl: alle Stichtage). (Download Flat-File!)\n",
    "- Destatis, Tabelle 12411-0018: Bevölkerung: Kreise, Stichtag, Geschlecht, Altersgruppen (Auswahl: alle Stichtage aber nur die 3 Kreise Aschaffenburg, Würzburg und Schweinfurt). (Download Flat-File!) -->\n",
    "\n",
    "Es gibt verschiedene Möglichkeiten ein und die selben Daten tabellarisch darzustellen.\n",
    "Je nach Anwendungsfall ist es nötig zwischen diesen Formen zu wechseln. Dies ist manchmal als \"pivotieren\" bekannt.\n",
    "Am besten sieht man es an einem Beispiel. \n",
    "\n",
    "<!--- Die nachfolgende Tabelle (adaptiert nach Destatis Tabelle 12411-0016) stellt die Bevölkerungsentwicklung der drei Städte Aschaffenburg, Schweinfurt und Würzburg dar.-->\n",
    "\n",
    "Die nachfolgende Tabelle enthält die Entwicklung der Studierendenzahlen für die TH Aschaffenburg"
   ]
  },
  {
   "cell_type": "code",
   "execution_count": null,
   "metadata": {},
   "outputs": [],
   "source": [
    "th = pd.read_csv(\"TH-Aschaffenburg.csv\")\n",
    "th.head()"
   ]
  },
  {
   "cell_type": "markdown",
   "metadata": {},
   "source": [
    "<!--- Zur Einfachheit vernachlässigen wir zunächst die Geschlechtsunterscheidung und beschränken uns auf die Gesamtzahlen.\n",
    "Die Tabelle ist im Long-Format und enthält für jede Kombination aus Ort und Zeit eine Zeile mit der Bevölkerungszahl.\n",
    "Dies hat den Vorteil, dass problemlos weitere Orte und Zeiten ergänzt werden können ohne die Struktur der Tabelle ändern zu müssen.-->\n",
    "\n",
    "Zur Einfachheit vernachlässigen wir zunächst die Gesamtstudierendenzahlen und beschränken uns nur auf die Studiengänge *BW* (Betriebswirtschaft), *SD* (Software Design) und *EIT* (Elektro- und Informationstechnik) seit dem Wintersemester 2020."
   ]
  },
  {
   "cell_type": "code",
   "execution_count": null,
   "metadata": {},
   "outputs": [],
   "source": [
    "th_small = th[th[\"Fach\"].isin([\"BW\", \"SD\", \"EIT\"])  & th[\"Jahr\"].isin([\"WS 20/21\", \"WS 21/22\", \"WS 22/23\"])].drop(columns = \"Studierende\").reset_index(drop = True)\n",
    "th_small"
   ]
  },
  {
   "cell_type": "markdown",
   "metadata": {},
   "source": [
    "Die obige Tabelle beinhaltet für jede Kombination von Studienjahr und Fach eine Zeile. \n",
    "Dies nennt man **Long-Format**.\n",
    "Insbesondere für Zeitreihen ist es jedoch oft übersichtlicher die Daten anders anzuordnen.\n",
    "Hier wollen wir die Anfängerzahlen jedes Faches in einer separaten Spalte darstellen.\n",
    "Dies ist dann das **Wide-Format**.\n",
    "\n",
    "Mit dem Befehl `pivot()` kann man die Felder geeignet \"rotieren\".\n",
    "Hierbei muss man angeben welche Spalten als Index erhalten bleiben sollen, welche Spalte die neuen Spaltennamen enthält und welches die eigentlichen Werte sind.\n",
    "Das Wide-Format mag übersichtlicher erscheinen, hat jedoch den Nachteil, dass man das Tabellenschema ändern muss wenn neue Studiengänge hinzukommen."
   ]
  },
  {
   "cell_type": "code",
   "execution_count": null,
   "metadata": {},
   "outputs": [],
   "source": [
    "th_small_wide = th_small.pivot(index=\"Jahr\", columns=\"Fach\", values = \"Anfänger\")\n",
    "th_small_wide"
   ]
  },
  {
   "cell_type": "markdown",
   "metadata": {},
   "source": [
    "Natürlich kann man auch vom Wide-Format zum Long-Format konvertieren.\n",
    "Dies funktionert mit `melt()`.\n",
    "(Zunächst machen wir jedoch mit `reset_index()` den Index zur einer regulären Spalte.)\n",
    "Im Argument `id_vars` listet man alle Spalten, die konstant gehalten werden sollen - alle anderen Spalten werden zu zwei neuen Spalten \"pivotiert\", indem jede Kombination aus Spaltenname und jeweilem Eintrag eine neue Zeile bilden. "
   ]
  },
  {
   "cell_type": "code",
   "execution_count": null,
   "metadata": {},
   "outputs": [],
   "source": [
    "th_small_wide.reset_index().melt(id_vars = \"Jahr\")"
   ]
  },
  {
   "cell_type": "markdown",
   "metadata": {},
   "source": [
    "Soeben hatten wir den Datensatz noch auf die Anfängerzahlen eingeschränkt und die Spalte *Studierende* entfernt.\n",
    "So haben wir `pivot()` nur die Spalte *Anfänger* pivotieren lassen.\n",
    "\n",
    "Belässt man hingegen die Studienrendenzahlen im Datensatz, so können wir auch diese mitpivotieren.\n",
    "Hierbei entsteht für die Spalten ein **MultiIndex**."
   ]
  },
  {
   "cell_type": "code",
   "execution_count": null,
   "metadata": {},
   "outputs": [],
   "source": [
    "th_small = th[th[\"Fach\"].isin([\"BW\", \"SD\", \"EIT\"])  & th[\"Jahr\"].isin([\"WS 20/21\", \"WS 21/22\", \"WS 22/23\"])].reset_index(drop = True)\n",
    "th_small"
   ]
  },
  {
   "cell_type": "code",
   "execution_count": null,
   "metadata": {},
   "outputs": [],
   "source": [
    "th_small_wide = th_small.pivot(index= [\"Jahr\"], columns= \"Fach\", values= [\"Anfänger\", \"Studierende\"])\n",
    "th_small_wide"
   ]
  },
  {
   "cell_type": "code",
   "execution_count": null,
   "metadata": {},
   "outputs": [],
   "source": [
    "th_small_wide.columns\n",
    "th_small_wide[\"Anfänger\"]\n",
    "th_small_wide[(\"Anfänger\", \"EIT\")]"
   ]
  },
  {
   "cell_type": "markdown",
   "metadata": {},
   "source": [
    "Eng verwandt mit `pivot()` und `melt()` sind die Funktionen `stack()` und `unstack()`.\n",
    "Sie sind vor allem im Zusammenspiel mit Indexen und MultiIndexen sinnvoll.\n",
    "\n",
    "- `stack()` pivotiert (\"stapelt\") alle Spaltenlabel (außer dem Index) und liefert eine Series (oder einen DataFrame) mit einem zusätzlichen inneren Indexlevel.\n",
    "- `unstack()` pivotiert das innerste Indexlevel zu Spaltenlabeln und erzeugt so einen DataFrame.\n",
    "\n",
    "Beschränken wir uns zur Übersichtlichkeit auf die obigen Anfängerzahlen."
   ]
  },
  {
   "cell_type": "code",
   "execution_count": null,
   "metadata": {},
   "outputs": [],
   "source": [
    "beginners = th_small_wide[\"Anfänger\"]\n",
    "beginners"
   ]
  },
  {
   "cell_type": "markdown",
   "metadata": {},
   "source": [
    "`stack()` rotiert alle Spaltennamen zu einem neuen inneren Indexlevel und liefert somit eine Series mit einem zweistufigen Multiindex."
   ]
  },
  {
   "cell_type": "code",
   "execution_count": null,
   "metadata": {},
   "outputs": [],
   "source": [
    "beginners_stacked = beginners.stack()\n",
    "beginners_stacked"
   ]
  },
  {
   "cell_type": "markdown",
   "metadata": {},
   "source": [
    "Mittels `unstack()` wird das innerste Level eines MultiIndex zu neuen Spaltennamen und wir erhalten wieder den ursprünglichen DataFrame.\n",
    "(Möchte man anstatt des innersten Levels ein anderes Indexlevel pivotieren, so kann man sowohl `stack` als auch `unstack` ein Indexlevel angeben.)"
   ]
  },
  {
   "cell_type": "code",
   "execution_count": null,
   "metadata": {},
   "outputs": [],
   "source": [
    "beginners_stacked.unstack()"
   ]
  },
  {
   "cell_type": "markdown",
   "metadata": {},
   "source": [
    "Nebenbei: Anstatt `pivot` aufzurufen kann man auch mittels `set_index` einen MultiIndex erzeugen und im Anschluss `unstack` aufrufen."
   ]
  },
  {
   "cell_type": "markdown",
   "metadata": {},
   "source": [
    "#### Zusammenführen mehrerer Tabellen\n",
    "\n",
    "Sehr oft möchte man mehrere Tabellen kombinieren um Informationen anzureichern.\n",
    "Auch mit Pandas kann man mehrere DataFrames verjoinen, so wie man es von SQL kennt.\n",
    "\n",
    "Die einfachste Variante um zwei DataFrames zu kombinieren ist das simple Untereinanderhängen.\n",
    "Dies ergibt selbstverständlich nur dann Sinn, wenn die Spalten übereinstimmen (oder zumindest Teilmengen voneinander sind).\n",
    "Betrachten wir hier beispielsweise die Daten zum Fach *MEDS* sowie zu *BW KMU*.\n",
    "Mit `concat()` lassen sich die beiden Tabellen direkt hintereinanderhängen."
   ]
  },
  {
   "cell_type": "code",
   "execution_count": null,
   "metadata": {},
   "outputs": [],
   "source": [
    "df_1 = th[th[\"Fach\"] == \"MEDS\"]\n",
    "df_2 = th[th[\"Fach\"] == \"BW KMU\"]\n",
    "\n",
    "pd.concat([df_1, df_2])"
   ]
  },
  {
   "cell_type": "markdown",
   "metadata": {},
   "source": [
    "Inhaltlich spannender ist das Verjoinen von Tabellen um zusätzliche Spalten zu erhalten.\n",
    "In der bisherigen Tabelle sind z.B. nur die Studiengangskürzel enthalten und auch eine Zuordnung zu Fakultäten fehlt.\n",
    "Diese Information liefert die folgende Tabelle"
   ]
  },
  {
   "cell_type": "code",
   "execution_count": null,
   "metadata": {},
   "outputs": [],
   "source": [
    "th_names = pd.read_csv(\"TH-Aschaffenburg_Faecher.csv\")\n",
    "th_names.head()"
   ]
  },
  {
   "cell_type": "markdown",
   "metadata": {},
   "source": [
    "Mittels `merge()` kann man in Pandas alle Arten von JOIN-Operationen durchführen, wie man sie aus SQL kennt.\n",
    "Hier wollen wir die Tabelle *th_small* mit den jeweiligen Studiengangsinformationen anreichern."
   ]
  },
  {
   "cell_type": "code",
   "execution_count": null,
   "metadata": {},
   "outputs": [],
   "source": [
    "pd.merge(left=th_small, right = th_names, how = \"left\", left_on = \"Fach\", right_on = \"Abkürzung\")"
   ]
  },
  {
   "cell_type": "markdown",
   "metadata": {},
   "source": [
    "Mit `merge()` lassen sich auch andere Joins durchführen, beispielsweise ein RIGHT JOIN (aber auch INNER JOIN oder OUTER JOIN)."
   ]
  },
  {
   "cell_type": "code",
   "execution_count": null,
   "metadata": {},
   "outputs": [],
   "source": [
    "pd.merge(left = th_small, right = th_names, how = \"right\", left_on = \"Fach\", right_on = \"Abkürzung\")"
   ]
  },
  {
   "cell_type": "code",
   "execution_count": null,
   "metadata": {},
   "outputs": [],
   "source": []
  }
 ],
 "metadata": {
  "kernelspec": {
   "display_name": "Python 3.9.13 ('Gdl_Data_Science')",
   "language": "python",
   "name": "python3"
  },
  "language_info": {
   "codemirror_mode": {
    "name": "ipython",
    "version": 3
   },
   "file_extension": ".py",
   "mimetype": "text/x-python",
   "name": "python",
   "nbconvert_exporter": "python",
   "pygments_lexer": "ipython3",
   "version": "3.11.5"
  },
  "orig_nbformat": 4,
  "vscode": {
   "interpreter": {
    "hash": "3d5d6a86e3d4974d189580060ff3bb19a628ecd522cfd26fc05ab9aa0187c31a"
   }
  }
 },
 "nbformat": 4,
 "nbformat_minor": 2
}
